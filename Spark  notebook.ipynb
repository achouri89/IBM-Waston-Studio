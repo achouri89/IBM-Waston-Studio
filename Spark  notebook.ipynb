{
    "cells": [
        {
            "cell_type": "markdown",
            "metadata": {},
            "source": "# Hello"
        },
        {
            "cell_type": "code",
            "execution_count": 3,
            "metadata": {},
            "outputs": [
                {
                    "data": {
                        "text/plain": "[Row(state='KS', account length='128', area code='415', phone number='382-4657', international plan='no', voice mail plan='yes', number vmail messages='25', total day minutes='265.1', total day calls='110', total day charge='45.07', total eve minutes='197.4', total eve calls='99', total eve charge='16.78', total night minutes='244.7', total night calls='91', total night charge='11.01', total intl minutes='10.0', total intl calls='3', total intl charge='2.7', customer service calls='1', churn='False'),\n Row(state='OH', account length='107', area code='415', phone number='371-7191', international plan='no', voice mail plan='yes', number vmail messages='26', total day minutes='161.6', total day calls='123', total day charge='27.47', total eve minutes='195.5', total eve calls='103', total eve charge='16.62', total night minutes='254.4', total night calls='103', total night charge='11.45', total intl minutes='13.7', total intl calls='3', total intl charge='3.7', customer service calls='1', churn='False'),\n Row(state='NJ', account length='137', area code='415', phone number='358-1921', international plan='no', voice mail plan='no', number vmail messages='0', total day minutes='243.4', total day calls='114', total day charge='41.38', total eve minutes='121.2', total eve calls='110', total eve charge='10.3', total night minutes='162.6', total night calls='104', total night charge='7.32', total intl minutes='12.2', total intl calls='5', total intl charge='3.29', customer service calls='0', churn='False'),\n Row(state='OH', account length='84', area code='408', phone number='375-9999', international plan='yes', voice mail plan='no', number vmail messages='0', total day minutes='299.4', total day calls='71', total day charge='50.9', total eve minutes='61.9', total eve calls='88', total eve charge='5.26', total night minutes='196.9', total night calls='89', total night charge='8.86', total intl minutes='6.6', total intl calls='7', total intl charge='1.78', customer service calls='2', churn='False'),\n Row(state='OK', account length='75', area code='415', phone number='330-6626', international plan='yes', voice mail plan='no', number vmail messages='0', total day minutes='166.7', total day calls='113', total day charge='28.34', total eve minutes='148.3', total eve calls='122', total eve charge='12.61', total night minutes='186.9', total night calls='121', total night charge='8.41', total intl minutes='10.1', total intl calls='3', total intl charge='2.73', customer service calls='3', churn='False')]"
                    },
                    "execution_count": 3,
                    "metadata": {},
                    "output_type": "execute_result"
                }
            ],
            "source": "# The code was removed by Watson Studio for sharing."
        },
        {
            "cell_type": "code",
            "execution_count": 4,
            "metadata": {},
            "outputs": [
                {
                    "name": "stdout",
                    "output_type": "stream",
                    "text": "+-----+--------------+---------+------------+------------------+---------------+---------------------+-----------------+---------------+----------------+-----------------+---------------+----------------+-------------------+-----------------+------------------+------------------+----------------+-----------------+----------------------+-----+\n|state|account length|area code|phone number|international plan|voice mail plan|number vmail messages|total day minutes|total day calls|total day charge|total eve minutes|total eve calls|total eve charge|total night minutes|total night calls|total night charge|total intl minutes|total intl calls|total intl charge|customer service calls|churn|\n+-----+--------------+---------+------------+------------------+---------------+---------------------+-----------------+---------------+----------------+-----------------+---------------+----------------+-------------------+-----------------+------------------+------------------+----------------+-----------------+----------------------+-----+\n|   KS|           128|      415|    382-4657|                no|            yes|                   25|            265.1|            110|           45.07|            197.4|             99|           16.78|              244.7|               91|             11.01|              10.0|               3|              2.7|                     1|False|\n|   OH|           107|      415|    371-7191|                no|            yes|                   26|            161.6|            123|           27.47|            195.5|            103|           16.62|              254.4|              103|             11.45|              13.7|               3|              3.7|                     1|False|\n|   NJ|           137|      415|    358-1921|                no|             no|                    0|            243.4|            114|           41.38|            121.2|            110|            10.3|              162.6|              104|              7.32|              12.2|               5|             3.29|                     0|False|\n|   OH|            84|      408|    375-9999|               yes|             no|                    0|            299.4|             71|            50.9|             61.9|             88|            5.26|              196.9|               89|              8.86|               6.6|               7|             1.78|                     2|False|\n|   OK|            75|      415|    330-6626|               yes|             no|                    0|            166.7|            113|           28.34|            148.3|            122|           12.61|              186.9|              121|              8.41|              10.1|               3|             2.73|                     3|False|\n+-----+--------------+---------+------------+------------------+---------------+---------------------+-----------------+---------------+----------------+-----------------+---------------+----------------+-------------------+-----------------+------------------+------------------+----------------+-----------------+----------------------+-----+\nonly showing top 5 rows\n\n"
                }
            ],
            "source": "df_data_1.show(5)"
        },
        {
            "cell_type": "code",
            "execution_count": 5,
            "metadata": {},
            "outputs": [
                {
                    "data": {
                        "text/plain": "[Row(state='KS', account length='128', area code='415', phone number='382-4657', international plan='no', voice mail plan='yes', number vmail messages='25', total day minutes='265.1', total day calls='110', total day charge='45.07', total eve minutes='197.4', total eve calls='99', total eve charge='16.78', total night minutes='244.7', total night calls='91', total night charge='11.01', total intl minutes='10.0', total intl calls='3', total intl charge='2.7', customer service calls='1', churn='False'),\n Row(state='OH', account length='107', area code='415', phone number='371-7191', international plan='no', voice mail plan='yes', number vmail messages='26', total day minutes='161.6', total day calls='123', total day charge='27.47', total eve minutes='195.5', total eve calls='103', total eve charge='16.62', total night minutes='254.4', total night calls='103', total night charge='11.45', total intl minutes='13.7', total intl calls='3', total intl charge='3.7', customer service calls='1', churn='False'),\n Row(state='NJ', account length='137', area code='415', phone number='358-1921', international plan='no', voice mail plan='no', number vmail messages='0', total day minutes='243.4', total day calls='114', total day charge='41.38', total eve minutes='121.2', total eve calls='110', total eve charge='10.3', total night minutes='162.6', total night calls='104', total night charge='7.32', total intl minutes='12.2', total intl calls='5', total intl charge='3.29', customer service calls='0', churn='False'),\n Row(state='OH', account length='84', area code='408', phone number='375-9999', international plan='yes', voice mail plan='no', number vmail messages='0', total day minutes='299.4', total day calls='71', total day charge='50.9', total eve minutes='61.9', total eve calls='88', total eve charge='5.26', total night minutes='196.9', total night calls='89', total night charge='8.86', total intl minutes='6.6', total intl calls='7', total intl charge='1.78', customer service calls='2', churn='False'),\n Row(state='OK', account length='75', area code='415', phone number='330-6626', international plan='yes', voice mail plan='no', number vmail messages='0', total day minutes='166.7', total day calls='113', total day charge='28.34', total eve minutes='148.3', total eve calls='122', total eve charge='12.61', total night minutes='186.9', total night calls='121', total night charge='8.41', total intl minutes='10.1', total intl calls='3', total intl charge='2.73', customer service calls='3', churn='False')]"
                    },
                    "execution_count": 5,
                    "metadata": {},
                    "output_type": "execute_result"
                }
            ],
            "source": "# The code was removed by Watson Studio for sharing."
        },
        {
            "cell_type": "code",
            "execution_count": 6,
            "metadata": {},
            "outputs": [],
            "source": "# The code was removed by Watson Studio for sharing."
        },
        {
            "cell_type": "code",
            "execution_count": null,
            "metadata": {},
            "outputs": [],
            "source": ""
        }
    ],
    "metadata": {
        "kernelspec": {
            "display_name": "Python 3.9 with Spark",
            "language": "python3",
            "name": "python39"
        },
        "language_info": {
            "codemirror_mode": {
                "name": "ipython",
                "version": 3
            },
            "file_extension": ".py",
            "mimetype": "text/x-python",
            "name": "python",
            "nbconvert_exporter": "python",
            "pygments_lexer": "ipython3",
            "version": "3.9.12"
        }
    },
    "nbformat": 4,
    "nbformat_minor": 1
}