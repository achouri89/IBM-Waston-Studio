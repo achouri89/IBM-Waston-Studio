{
    "cells": [
        {
            "metadata": {
                "collapsed": true
            },
            "cell_type": "markdown",
            "source": "# Hello"
        },
        {
            "metadata": {},
            "cell_type": "code",
            "source": "\nimport ibmos2spark, os\n# @hidden_cell\ncredentials = {\n    'endpoint': 'https://s3.private.eu.cloud-object-storage.appdomain.cloud',\n    'service_id': 'iam-ServiceId-96e81d10-8b26-45dc-a644-941e022be0b4',\n    'iam_service_endpoint': 'https://iam.cloud.ibm.com/oidc/token',\n    'api_key': 'J2xU_x2HYIKBdvHlV5kPtvOwBluELPTGyAjucnPk4Z3-'\n}\n\nconfiguration_name = 'os_c24e3563e8c74301908cf9051a058284_configs'\ncos = ibmos2spark.CloudObjectStorage(sc, credentials, configuration_name, 'bluemix_cos')\n\nfrom pyspark.sql import SparkSession\nspark = SparkSession.builder.getOrCreate()\ndf_data_1 = spark.read\\\n  .format('org.apache.spark.sql.execution.datasources.csv.CSVFileFormat')\\\n  .option('header', 'true')\\\n  .load(cos.url('customer-churn-kaggle.csv', 'notbooktest-donotdelete-pr-q9kqtzwnb2kee0'))\ndf_data_1.take(5)\n",
            "execution_count": 1,
            "outputs": [
                {
                    "output_type": "execute_result",
                    "execution_count": 1,
                    "data": {
                        "text/plain": "[Row(state='KS', account length='128', area code='415', phone number='382-4657', international plan='no', voice mail plan='yes', number vmail messages='25', total day minutes='265.1', total day calls='110', total day charge='45.07', total eve minutes='197.4', total eve calls='99', total eve charge='16.78', total night minutes='244.7', total night calls='91', total night charge='11.01', total intl minutes='10.0', total intl calls='3', total intl charge='2.7', customer service calls='1', churn='False'),\n Row(state='OH', account length='107', area code='415', phone number='371-7191', international plan='no', voice mail plan='yes', number vmail messages='26', total day minutes='161.6', total day calls='123', total day charge='27.47', total eve minutes='195.5', total eve calls='103', total eve charge='16.62', total night minutes='254.4', total night calls='103', total night charge='11.45', total intl minutes='13.7', total intl calls='3', total intl charge='3.7', customer service calls='1', churn='False'),\n Row(state='NJ', account length='137', area code='415', phone number='358-1921', international plan='no', voice mail plan='no', number vmail messages='0', total day minutes='243.4', total day calls='114', total day charge='41.38', total eve minutes='121.2', total eve calls='110', total eve charge='10.3', total night minutes='162.6', total night calls='104', total night charge='7.32', total intl minutes='12.2', total intl calls='5', total intl charge='3.29', customer service calls='0', churn='False'),\n Row(state='OH', account length='84', area code='408', phone number='375-9999', international plan='yes', voice mail plan='no', number vmail messages='0', total day minutes='299.4', total day calls='71', total day charge='50.9', total eve minutes='61.9', total eve calls='88', total eve charge='5.26', total night minutes='196.9', total night calls='89', total night charge='8.86', total intl minutes='6.6', total intl calls='7', total intl charge='1.78', customer service calls='2', churn='False'),\n Row(state='OK', account length='75', area code='415', phone number='330-6626', international plan='yes', voice mail plan='no', number vmail messages='0', total day minutes='166.7', total day calls='113', total day charge='28.34', total eve minutes='148.3', total eve calls='122', total eve charge='12.61', total night minutes='186.9', total night calls='121', total night charge='8.41', total intl minutes='10.1', total intl calls='3', total intl charge='2.73', customer service calls='3', churn='False')]"
                    },
                    "metadata": {}
                }
            ]
        },
        {
            "metadata": {},
            "cell_type": "code",
            "source": "\n# @hidden_cell\n# The following code contains the credentials for a file in your IBM Cloud Object Storage.\n# You might want to remove those credentials before you share your notebook.\ncredentials_1 = {\n    'IAM_SERVICE_ID': 'iam-ServiceId-96e81d10-8b26-45dc-a644-941e022be0b4',\n    'IBM_API_KEY_ID': 'J2xU_x2HYIKBdvHlV5kPtvOwBluELPTGyAjucnPk4Z3-',\n    'ENDPOINT': 'https://s3.private.eu.cloud-object-storage.appdomain.cloud',\n    'IBM_AUTH_ENDPOINT': 'https://iam.cloud.ibm.com/oidc/token',\n    'BUCKET': 'notbooktest-donotdelete-pr-q9kqtzwnb2kee0',\n    'FILE': 'customer-churn-kaggle.csv'\n}\n",
            "execution_count": 2,
            "outputs": []
        },
        {
            "metadata": {},
            "cell_type": "code",
            "source": "",
            "execution_count": null,
            "outputs": []
        }
    ],
    "metadata": {
        "kernelspec": {
            "name": "python39",
            "display_name": "Python 3.9 with Spark",
            "language": "python3"
        },
        "language_info": {
            "name": "python",
            "version": "3.9.12",
            "mimetype": "text/x-python",
            "codemirror_mode": {
                "name": "ipython",
                "version": 3
            },
            "pygments_lexer": "ipython3",
            "nbconvert_exporter": "python",
            "file_extension": ".py"
        }
    },
    "nbformat": 4,
    "nbformat_minor": 1
}